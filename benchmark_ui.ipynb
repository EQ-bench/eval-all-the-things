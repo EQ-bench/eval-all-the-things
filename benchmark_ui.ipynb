{
 "cells": [
  {
   "cell_type": "code",
   "execution_count": 3,
   "metadata": {},
   "outputs": [
    {
     "ename": "ModuleNotFoundError",
     "evalue": "No module named 'google.colab'",
     "output_type": "error",
     "traceback": [
      "\u001b[0;31m---------------------------------------------------------------------------\u001b[0m",
      "\u001b[0;31mModuleNotFoundError\u001b[0m                       Traceback (most recent call last)",
      "Cell \u001b[0;32mIn[3], line 6\u001b[0m\n\u001b[1;32m      1\u001b[0m \u001b[38;5;66;03m# @title # Eval-all-the-things!\u001b[39;00m\n\u001b[1;32m      2\u001b[0m \n\u001b[1;32m      3\u001b[0m \u001b[38;5;66;03m# !pip install -qqq runpod --progress-bar off\u001b[39;00m\n\u001b[1;32m      5\u001b[0m \u001b[38;5;28;01mimport\u001b[39;00m \u001b[38;5;21;01mrunpod\u001b[39;00m\n\u001b[0;32m----> 6\u001b[0m \u001b[38;5;28;01mfrom\u001b[39;00m \u001b[38;5;21;01mgoogle\u001b[39;00m\u001b[38;5;21;01m.\u001b[39;00m\u001b[38;5;21;01mcolab\u001b[39;00m \u001b[38;5;28;01mimport\u001b[39;00m userdata\n\u001b[1;32m      7\u001b[0m \u001b[38;5;28;01mfrom\u001b[39;00m \u001b[38;5;21;01msrc\u001b[39;00m\u001b[38;5;21;01m.\u001b[39;00m\u001b[38;5;21;01mbenchmark\u001b[39;00m \u001b[38;5;28;01mimport\u001b[39;00m install_dependencies, run_benchmarks, handle_results\n\u001b[1;32m      9\u001b[0m \u001b[38;5;66;03m# @markdown ---\u001b[39;00m\n\u001b[1;32m     10\u001b[0m \n\u001b[1;32m     11\u001b[0m \u001b[38;5;66;03m# @markdown ## Evaluation Parameters\u001b[39;00m\n",
      "\u001b[0;31mModuleNotFoundError\u001b[0m: No module named 'google.colab'"
     ]
    }
   ],
   "source": [
    "# @title # 🧪 Benchmark Automation\n",
    "\n",
    "# @markdown This notebook allows you to **automatically run benchmarks on your LLMs** using RunPod. If you don't have an account, please consider using this [referral link](https://runpod.io?ref=your_referral_code).\n",
    "\n",
    "# @markdown Once a pod has started, you can safely close this tab. The results are then uploaded to [GitHub Gist](https://gist.github.com/), and the pod is automatically destroyed.\n",
    "\n",
    "# @markdown For further details, see the project on 💻 [GitHub](https://github.com/your_repo_url).\n",
    "\n",
    "!pip install -qqq runpod --progress-bar off\n",
    "\n",
    "import runpod\n",
    "from google.colab import userdata\n",
    "\n",
    "# @markdown ---\n",
    "\n",
    "# @markdown ## Evaluation Parameters\n",
    "\n",
    "BENCHMARKS = [\"eq-bench\"] # @param [\"eq-bench\", \"creative-writing\", \"judgemark\"]\n",
    "LM_EVAL_TASKS = \"magi\" # @param {type:\"string\"}\n",
    "MODEL_ID = \"your_model_id_here\" # @param {type:\"string\"}\n",
    "GPU = \"NVIDIA GeForce RTX 3090\" # @param [\"NVIDIA A100 80GB PCIe\", \"NVIDIA A100-SXM4-80GB\", \"NVIDIA A30\", \"NVIDIA A40\", \"NVIDIA GeForce RTX 3070\", \"NVIDIA GeForce RTX 3080\", \"NVIDIA GeForce RTX 3080 Ti\", \"NVIDIA GeForce RTX 3090\", \"NVIDIA GeForce RTX 3090 Ti\", \"NVIDIA GeForce RTX 4070 Ti\", \"NVIDIA GeForce RTX 4080\", \"NVIDIA GeForce RTX 4090\", \"NVIDIA H100 80GB HBM3\", \"NVIDIA H100 PCIe\", \"NVIDIA L4\", \"NVIDIA L40\", \"NVIDIA RTX 4000 Ada Generation\", \"NVIDIA RTX 4000 SFF Ada Generation\", \"NVIDIA RTX 5000 Ada Generation\", \"NVIDIA RTX 6000 Ada Generation\", \"NVIDIA RTX A2000\", \"NVIDIA RTX A4000\", \"NVIDIA RTX A4500\", \"NVIDIA RTX A5000\", \"NVIDIA RTX A6000\", \"Tesla V100-FHHL-16GB\", \"Tesla V100-PCIE-16GB\", \"Tesla V100-SXM2-16GB\", \"Tesla V100-SXM2-32GB\"]\n",
    "NUMBER_OF_GPUS = 4 # @param {type:\"slider\", min:1, max:8, step:1}\n",
    "CONTAINER_DISK = 100 # @param {type:\"slider\", min:50, max:500, step:25}\n",
    "CLOUD_TYPE = \"COMMUNITY\" # @param [\"COMMUNITY\", \"SECURE\"]\n",
    "REPO = \"https://github.com/EQ-bench/eval-all-the-things.git\" # @param {type:\"string\"}\n",
    "TRUST_REMOTE_CODE = False # @param {type:\"boolean\"}\n",
    "DEBUG = False # @param {type:\"boolean\"}\n",
    "\n",
    "# @markdown ---\n",
    "\n",
    "# @markdown ## Tokens\n",
    "# @markdown Enter the name of your tokens in the Secrets tab.\n",
    "RUNPOD_TOKEN = \"RUNPOD_TOKEN\" # @param {type:\"string\"}\n",
    "GITHUB_TOKEN = \"GITHUB_TOKEN\" # @param {type:\"string\"}\n",
    "HF_TOKEN = \"HF_TOKEN\" # @param {type:\"string\"}\n",
    "\n",
    "# Environment variables\n",
    "runpod.api_key = userdata.get(RUNPOD_TOKEN)\n",
    "GITHUB_API_TOKEN = userdata.get(GITHUB_TOKEN)\n",
    "HF_API_TOKEN = userdata.get(HF_TOKEN)\n",
    "\n",
    "# Create a pod\n",
    "pod = runpod.create_pod(\n",
    "    name=f\"Benchmark {MODEL_ID.split('/')[-1]} on {', '.join(BENCHMARKS)}\",\n",
    "    image_name=\"runpod/pytorch:2.1.0-py3.10-cuda11.8.0-devel-ubuntu22.04\",\n",
    "    gpu_type_id=GPU,\n",
    "    cloud_type=CLOUD_TYPE,\n",
    "    gpu_count=NUMBER_OF_GPUS,\n",
    "    volume_in_gb=0,\n",
    "    container_disk_in_gb=CONTAINER_DISK,\n",
    "    template_id=\"yz3jh866ea\",\n",
    "    env={\n",
    "        \"BENCHMARKS\": \",\".join(BENCHMARKS),\n",
    "        \"LM_EVAL_TASKS\": LM_EVAL_TASKS,\n",
    "        \"MODEL_ID\": MODEL_ID,\n",
    "        \"REPO\": REPO,\n",
    "        \"TRUST_REMOTE_CODE\": str(TRUST_REMOTE_CODE),\n",
    "        \"DEBUG\": str(DEBUG),\n",
    "        \"GITHUB_API_TOKEN\": GITHUB_API_TOKEN,\n",
    "        \"HF_API_TOKEN\": HF_API_TOKEN,\n",
    "        \"NUMBER_OF_GPUS\": str(NUMBER_OF_GPUS)\n",
    "    }\n",
    ")\n",
    "\n",
    "print(\"Pod started: https://www.runpod.io/console/pods\")"
   ]
  }
 ],
 "metadata": {
  "kernelspec": {
   "display_name": "Python 3",
   "language": "python",
   "name": "python3"
  },
  "language_info": {
   "codemirror_mode": {
    "name": "ipython",
    "version": 3
   },
   "file_extension": ".py",
   "mimetype": "text/x-python",
   "name": "python",
   "nbconvert_exporter": "python",
   "pygments_lexer": "ipython3",
   "version": "3.10.6"
  }
 },
 "nbformat": 4,
 "nbformat_minor": 2
}
